{
 "cells": [
  {
   "cell_type": "markdown",
   "id": "2219f3cb",
   "metadata": {},
   "source": "# Visual Firewall – CIC‑IDS‑2017 → GAF Image Encoder"
  },
  {
   "cell_type": "code",
   "id": "850dc8a3",
   "metadata": {
    "ExecuteTime": {
     "end_time": "2025-04-25T03:17:09.283252Z",
     "start_time": "2025-04-25T03:17:09.281362Z"
    }
   },
   "source": [
    "# ▶️ If you're running this on a fresh Python/Jupyter environment,\n",
    "#    uncomment the next line to install required libs.\n",
    "# !pip install pandas scikit-learn pyts opencv-python tqdm\n"
   ],
   "outputs": [],
   "execution_count": 1
  },
  {
   "cell_type": "code",
   "id": "da744b8b",
   "metadata": {
    "ExecuteTime": {
     "end_time": "2025-04-25T22:49:45.147948Z",
     "start_time": "2025-04-25T22:49:43.037100Z"
    }
   },
   "source": [
    "import os, glob\n",
    "from pathlib import Path\n",
    "import pandas as pd\n",
    "import numpy as np\n",
    "from sklearn.preprocessing import MinMaxScaler\n",
    "from pyts.image import GramianAngularField\n",
    "import cv2\n",
    "from tqdm import tqdm\n"
   ],
   "outputs": [],
   "execution_count": 2
  },
  {
   "cell_type": "code",
   "id": "4744ab8e",
   "metadata": {
    "ExecuteTime": {
     "end_time": "2025-04-25T22:49:53.647430Z",
     "start_time": "2025-04-25T22:49:53.644869Z"
    }
   },
   "source": [
    "# 🔧 Configuration\n",
    "DATA_DIR   = Path('data')          # folder with *.csv\n",
    "OUT_DIR    = Path('gaf_images')    # images + labels.csv will be written here\n",
    "IMG_SIZE   = 32                    # 32×32 images\n",
    "FEATURES = [\n",
    "    # ─── traffic volumes ───────────────────────────────────────────\n",
    "    \"Flow Duration\",\n",
    "    \"Total Fwd Packets\", \"Total Backward Packets\",\n",
    "    \"Total Length of Fwd Packets\", \"Total Length of Bwd Packets\",\n",
    "\n",
    "    # ─── packet-length statistics ─────────────────────────────────\n",
    "    \"Fwd Packet Length Max\", \"Fwd Packet Length Min\",\n",
    "    \"Fwd Packet Length Mean\", \"Fwd Packet Length Std\",\n",
    "    \"Bwd Packet Length Max\", \"Bwd Packet Length Min\",\n",
    "    \"Bwd Packet Length Mean\", \"Bwd Packet Length Std\",\n",
    "\n",
    "    # ─── throughput & rate features ───────────────────────────────\n",
    "    \"Flow Bytes/s\", \"Flow Packets/s\",\n",
    "    \"Fwd Packets/s\", \"Bwd Packets/s\",\n",
    "\n",
    "    # ─── inter-arrival-time (IAT) stats ───────────────────────────\n",
    "    \"Flow IAT Mean\", \"Flow IAT Std\", \"Flow IAT Max\", \"Flow IAT Min\",\n",
    "    \"Fwd IAT Total\", \"Fwd IAT Mean\", \"Fwd IAT Std\", \"Fwd IAT Max\", \"Fwd IAT Min\",\n",
    "    \"Bwd IAT Total\", \"Bwd IAT Mean\", \"Bwd IAT Std\", \"Bwd IAT Max\", \"Bwd IAT Min\",\n",
    "\n",
    "    # ─── aggregate packet-size stats ──────────────────────────────\n",
    "    \"Min Packet Length\", \"Max Packet Length\",\n",
    "    \"Packet Length Mean\", \"Packet Length Std\",\n",
    "\n",
    "    # ─── TCP flag counters (binary patterns often signal attacks) ─\n",
    "    \"FIN Flag Count\", \"SYN Flag Count\", \"RST Flag Count\",\n",
    "    \"PSH Flag Count\", \"ACK Flag Count\", \"URG Flag Count\"\n",
    "]\n",
    "\n",
    "OUT_DIR.mkdir(exist_ok=True)\n"
   ],
   "outputs": [],
   "execution_count": 5
  },
  {
   "cell_type": "code",
   "id": "ae560071",
   "metadata": {
    "ExecuteTime": {
     "end_time": "2025-04-25T22:49:54.717008Z",
     "start_time": "2025-04-25T22:49:54.714420Z"
    }
   },
   "source": [
    "def load_cic_csv(dir_path: Path) -> pd.DataFrame:\n",
    "    files = glob.glob(str(dir_path / 'Friday-WorkingHours-Afternoon-DDos.pcap_ISCX.csv'))\n",
    "    if not files:\n",
    "        raise FileNotFoundError(f'No CSV files found in {dir_path.resolve()}')\n",
    "    dfs = [pd.read_csv(f, low_memory=False) for f in files]\n",
    "    return pd.concat(dfs, ignore_index=True)\n",
    "\n",
    "def encode_gaf_pair(signal: np.ndarray, size: int):\n",
    "    gadf = GramianAngularField(method='difference', image_size=size).fit_transform(signal.reshape(1,-1))[0]\n",
    "    gasf = GramianAngularField(method='summation', image_size=size).fit_transform(signal.reshape(1,-1))[0]\n",
    "    return gadf, gasf\n",
    "\n",
    "def save_rgb(gadf: np.ndarray, gasf: np.ndarray, save_path: Path):\n",
    "    gadf_u8 = ((gadf + 1) / 2 * 255).astype(np.uint8)\n",
    "    gasf_u8 = ((gasf + 1) / 2 * 255).astype(np.uint8)\n",
    "    b = np.zeros_like(gadf_u8, dtype=np.uint8)\n",
    "    rgb = cv2.merge([gadf_u8, gasf_u8, b])\n",
    "    cv2.imwrite(str(save_path), rgb)\n"
   ],
   "outputs": [],
   "execution_count": 6
  },
  {
   "cell_type": "code",
   "id": "fcccfb52",
   "metadata": {
    "ExecuteTime": {
     "end_time": "2025-04-25T22:49:57.641505Z",
     "start_time": "2025-04-25T22:49:56.782039Z"
    }
   },
   "source": [
    "# 🔍 Visual sanity‑check – display a few random images\n",
    "import random, matplotlib.pyplot as plt\n",
    "\n",
    "samples = random.sample(list(Path(OUT_DIR).glob('*.png')), 5)\n",
    "fig, axs = plt.subplots(1, len(samples), figsize=(15,3))\n",
    "for ax, img_path in zip(axs, samples):\n",
    "    ax.imshow(cv2.cvtColor(cv2.imread(str(img_path)), cv2.COLOR_BGR2RGB))\n",
    "    ax.set_title(img_path.name)\n",
    "    ax.axis('off')\n",
    "plt.show()\n"
   ],
   "outputs": [
    {
     "data": {
      "text/plain": [
       "<Figure size 1500x300 with 5 Axes>"
      ],
      "image/png": "[encoded data removed]"
     },
     "metadata": {},
     "output_type": "display_data"
    }
   ],
   "execution_count": 7
  },
  {
   "metadata": {
    "ExecuteTime": {
     "end_time": "2025-04-25T03:20:03.231906Z",
     "start_time": "2025-04-25T03:17:56.007344Z"
    }
   },
   "cell_type": "code",
   "source": [
    "df = load_cic_csv(DATA_DIR)\n",
    "# quick diagnostic for your chosen FEATURES\n",
    "df.columns = df.columns.str.strip()\n",
    "df[FEATURES] = df[FEATURES].replace(\n",
    "    regex=r'(?i)inf|-inf|infinity|-infinity',  # (?i) = case-insensitive\n",
    "    value=np.nan\n",
    ")\n",
    "\n",
    "# Convert selected columns to numeric (coerce errors to NaN)\n",
    "df[FEATURES] = df[FEATURES].apply(pd.to_numeric, errors=\"coerce\")\n",
    "\n",
    "# 3) Clip absurdly large magnitudes that can survive as finite floats\n",
    "abs_cap = 1e12         # adjust if you need higher; IDS features rarely exceed this\n",
    "df[FEATURES] = df[FEATURES].clip(lower=-abs_cap, upper=abs_cap)\n",
    "\n",
    "df = df.dropna(subset=FEATURES).reset_index(drop=True)\n",
    "\n",
    "# scale features to [-1,1] for GAF\n",
    "scaler = MinMaxScaler(feature_range=(-1,1))\n",
    "df[FEATURES] = scaler.fit_transform(df[FEATURES])\n",
    "label_map = []\n",
    "for idx, row in tqdm(df.iterrows(), total=len(df)):\n",
    "    vec = row[FEATURES].values.astype(np.float32)\n",
    "    gadf, gasf = encode_gaf_pair(vec, IMG_SIZE)\n",
    "    img_name = f'flow_{idx:07d}.png'\n",
    "    save_rgb(gadf, gasf, OUT_DIR / img_name)\n",
    "    label_map.append({'image': img_name, 'label': row['Label']})\n",
    "\n",
    "pd.DataFrame(label_map).to_csv(OUT_DIR / 'labels.csv', index=False)\n",
    "print('✅ Done:', len(label_map), 'images written to', OUT_DIR)\n"
   ],
   "id": "081140fd",
   "outputs": [
    {
     "name": "stderr",
     "output_type": "stream",
     "text": [
      "100%|██████████| 225741/225741 [02:05<00:00, 1796.99it/s]\n"
     ]
    },
    {
     "name": "stdout",
     "output_type": "stream",
     "text": [
      "✅ Done: 225741 images written to gaf_images\n"
     ]
    }
   ],
   "execution_count": 6
  },
  {
   "cell_type": "code",
   "execution_count": null,
   "id": "65f27fa1",
   "metadata": {},
   "outputs": [],
   "source": [
    "# 📦 Quick PyTorch dataset wrapper\n",
    "from torch.utils.data import Dataset\n",
    "from PIL import Image\n",
    "import torchvision.transforms as T\n",
    "\n",
    "class FlowGAFDataset(Dataset):\n",
    "    def __init__(self, img_dir=OUT_DIR, csv_file=OUT_DIR/'labels.csv', transform=None):\n",
    "        self.df = pd.read_csv(csv_file)\n",
    "        self.img_dir = Path(img_dir)\n",
    "        self.transform = transform or T.ToTensor()\n",
    "    def __len__(self): return len(self.df)\n",
    "    def __getitem__(self, idx):\n",
    "        row = self.df.iloc[idx]\n",
    "        img = Image.open(self.img_dir / row.image).convert('RGB')\n",
    "        label = row.label\n",
    "        return self.transform(img), label\n",
    "\n",
    "print('Dataset demo:', len(FlowGAFDataset()), 'samples')\n"
   ]
  },
  {
   "metadata": {},
   "cell_type": "code",
   "outputs": [],
   "execution_count": null,
   "source": "",
   "id": "c2e763f4634259e7"
  },
  {
   "metadata": {},
   "cell_type": "code",
   "outputs": [],
   "execution_count": null,
   "source": "",
   "id": "dc94b7cd1687e69b"
  }
 ],
 "metadata": {},
 "nbformat": 4,
 "nbformat_minor": 5
}
