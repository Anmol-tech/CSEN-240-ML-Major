{
 "cells": [
  {
   "cell_type": "code",
   "execution_count": 1,
   "id": "initial_id",
   "metadata": {
    "ExecuteTime": {
     "end_time": "2025-05-03T03:21:54.220131Z",
     "start_time": "2025-05-03T03:21:52.145386Z"
    },
    "collapsed": true
   },
   "outputs": [],
   "source": [
    "import os\n",
    "import numpy as np\n",
    "import pandas as pd\n",
    "import matplotlib.pyplot as plt\n",
    "from sklearn.preprocessing import MinMaxScaler\n",
    "from sklearn.decomposition import PCA\n",
    "from pyts.image import GramianAngularField\n",
    "\n",
    "# Parameters\n",
    "input_folder = './data'\n",
    "output_folder = './output/gaf_images/'\n",
    "n_components = 30  # PCA reduced dimensions\n",
    "gaf_size = 32       # GAF image size\n",
    "# max_flows_per_file = 5000  # Change or set to None for full run\n",
    "\n",
    "# Initialize transformers\n",
    "scaler = MinMaxScaler()\n",
    "pca = PCA(n_components=n_components)\n",
    "gaf = GramianAngularField(method='summation', image_size=gaf_size)\n",
    "\n",
    "# Create output directory\n",
    "os.makedirs(output_folder, exist_ok=True)\n",
    "\n",
    "# Process each CSV file\n",
    "csv_files = [f for f in os.listdir(input_folder) if f.endswith('.csv')]\n",
    "# for csv_file in csv_files:\n",
    "#     print(f\"\\n📄 Processing {csv_file}...\")\n",
    "#     df_path = os.path.join(input_folder, csv_file)\n",
    "#     df = pd.read_csv(df_path)\n",
    "#     df = df.dropna()\n",
    "#     print(\"Unique labels found:\", df[' Label'].unique())\n",
    "#     labels = df[' Label']\n",
    "#     features = df.replace([np.inf, -np.inf], np.nan).dropna()\n",
    "#     print(\"Unique labels found:\", labels.unique())\n"
   ]
  },
  {
   "cell_type": "code",
   "execution_count": 2,
   "id": "6d3780ca30c3133",
   "metadata": {
    "ExecuteTime": {
     "start_time": "2025-05-03T02:02:15.749033Z"
    },
    "jupyter": {
     "is_executing": true
    }
   },
   "outputs": [
    {
     "name": "stdout",
     "output_type": "stream",
     "text": [
      "\n",
      "📄 Processing Thursday-WorkingHours-Afternoon-Infilteration.pcap_ISCX.csv...\n",
      "Generating GAF images for up to all flows...\n",
      "\n",
      "📄 Processing Monday-WorkingHours.pcap_ISCX.csv...\n",
      "Generating GAF images for up to all flows...\n",
      "\n",
      "📄 Processing Friday-WorkingHours-Morning.pcap_ISCX.csv...\n",
      "Generating GAF images for up to all flows...\n",
      "\n",
      "📄 Processing Friday-WorkingHours-Afternoon-PortScan.pcap_ISCX.csv...\n",
      "Generating GAF images for up to all flows...\n",
      "\n",
      "📄 Processing Friday-WorkingHours-Afternoon-DDos.pcap_ISCX.csv...\n",
      "Generating GAF images for up to all flows...\n",
      "\n",
      "📄 Processing Tuesday-WorkingHours.pcap_ISCX.csv...\n",
      "Generating GAF images for up to all flows...\n",
      "\n",
      "📄 Processing Wednesday-workingHours.pcap_ISCX.csv...\n",
      "Generating GAF images for up to all flows...\n",
      "\n",
      "📄 Processing Thursday-WorkingHours-Morning-WebAttacks.pcap_ISCX.csv...\n",
      "Generating GAF images for up to all flows...\n",
      "\n",
      "✅ GAF image generation complete.\n"
     ]
    }
   ],
   "source": [
    "for csv_file in csv_files:\n",
    "    print(f\"\\n📄 Processing {csv_file}...\")\n",
    "    df_path = os.path.join(input_folder, csv_file)\n",
    "    df = pd.read_csv(df_path)\n",
    "    df.columns = df.columns.str.strip()\n",
    "\n",
    "    if 'Label' not in df.columns:\n",
    "        print(f\"⚠️ Skipping {csv_file} — 'Label' column not found.\")\n",
    "        continue\n",
    "\n",
    "    df = df.dropna()\n",
    "    labels = df['Label'].values\n",
    "    features = df.select_dtypes(include=[np.number])\n",
    "\n",
    "    # Remove inf or very large values\n",
    "    features = features.replace([np.inf, -np.inf], np.nan).dropna()\n",
    "    features_scaled = scaler.fit_transform(features)\n",
    "    features_reduced = pca.fit_transform(features_scaled)\n",
    "\n",
    "    # Prepare output folders\n",
    "    day_name = os.path.splitext(csv_file)[0]\n",
    "    day_folder = os.path.join(output_folder, 'by_day', day_name)\n",
    "    attack_folder = os.path.join(output_folder, 'by_attack_type')\n",
    "    os.makedirs(day_folder, exist_ok=True)\n",
    "    os.makedirs(attack_folder, exist_ok=True)\n",
    "\n",
    "    print(f\"Generating GAF images for up to all flows...\")\n",
    "\n",
    "    for idx, (flow, label) in enumerate(zip(features_reduced, labels)):\n",
    "        try:\n",
    "            flow_2d = flow.reshape(1, -1)\n",
    "            gaf.image_size = min(gaf.image_size, flow_2d.shape[1])\n",
    "            gaf_image = gaf.fit_transform(flow_2d)[0]\n",
    "\n",
    "\n",
    "            # Save by day\n",
    "            day_label_folder = os.path.join(day_folder, str(label))\n",
    "            os.makedirs(day_label_folder, exist_ok=True)\n",
    "            gaf_day_path = os.path.join(day_label_folder, f\"flow_{idx}.png\")\n",
    "            plt.imsave(gaf_day_path, gaf_image, cmap='gray')\n",
    "\n",
    "            # Save by attack type\n",
    "            attack_label_folder = os.path.join(attack_folder, str(label))\n",
    "            os.makedirs(attack_label_folder, exist_ok=True)\n",
    "            gaf_attack_path = os.path.join(attack_label_folder, f\"{day_name}_flow_{idx}.png\")\n",
    "            plt.imsave(gaf_attack_path, gaf_image, cmap='gray')\n",
    "\n",
    "            # if max_flows_per_file and idx >= max_flows_per_file:\n",
    "            #     break\n",
    "\n",
    "        except Exception as e:\n",
    "            print(f\"⚠️ Error on flow {idx}: {e}\")\n",
    "            continue\n",
    "\n",
    "print(\"\\n✅ GAF image generation complete.\")"
   ]
  },
  {
   "cell_type": "code",
   "execution_count": null,
   "id": "2e97ee66fdf1fe31",
   "metadata": {},
   "outputs": [],
   "source": []
  }
 ],
 "metadata": {
  "kernelspec": {
   "display_name": "base",
   "language": "python",
   "name": "python3"
  },
  "language_info": {
   "codemirror_mode": {
    "name": "ipython",
    "version": 3
   },
   "file_extension": ".py",
   "mimetype": "text/x-python",
   "name": "python",
   "nbconvert_exporter": "python",
   "pygments_lexer": "ipython3",
   "version": "3.12.4"
  }
 },
 "nbformat": 4,
 "nbformat_minor": 5
}
