{
 "cells": [
  {
   "cell_type": "code",
   "id": "initial_id",
   "metadata": {
    "collapsed": true,
    "ExecuteTime": {
     "end_time": "2025-04-24T23:38:51.521130Z",
     "start_time": "2025-04-24T23:38:48.126292Z"
    }
   },
   "source": [
    "#!/usr/bin/env python\n",
    "\"\"\"\n",
    "csv2_gaf_rgb.py – Convert CIC-IDS-2017 flow rows into 2-channel GAF images (GADF+GASF)\n",
    "and save as RGB PNG (R=GADF, G=GASF, B=zero-pad).\n",
    "\n",
    "Author: you / 2025\n",
    "\"\"\"\n",
    "\n",
    "import argparse\n",
    "import os\n",
    "import glob\n",
    "from pathlib import Path\n",
    "\n",
    "import numpy as np\n",
    "import pandas as pd\n",
    "from sklearn.preprocessing import MinMaxScaler\n",
    "from pyts.image import GramianAngularField\n",
    "import cv2\n",
    "from tqdm import tqdm\n",
    "\n",
    "\n",
    "def load_cic_csv(dir_path: str) -> pd.DataFrame:\n",
    "    \"\"\"Concatenate all CSV files in dir_path into one DataFrame.\"\"\"\n",
    "    files = glob.glob(os.path.join(dir_path, \"*.csv\"))\n",
    "    dfs = []\n",
    "    for f in files:\n",
    "        dfs.append(pd.read_csv(f, low_memory=False))\n",
    "    return pd.concat(dfs, ignore_index=True)\n",
    "\n",
    "\n",
    "def encode_gaf_pair(signal: np.ndarray, size: int):\n",
    "    \"\"\"Return (GADF, GASF) of shape (size, size).\"\"\"\n",
    "    gadf = GramianAngularField(\n",
    "        method=\"difference\", image_size=size, overlapping=False\n",
    "    ).fit_transform(signal.reshape(1, -1))[0]\n",
    "    gasf = GramianAngularField(\n",
    "        method=\"summation\", image_size=size, overlapping=False\n",
    "    ).fit_transform(signal.reshape(1, -1))[0]\n",
    "    return gadf, gasf\n",
    "\n",
    "\n",
    "def vector_from_row(row: pd.Series, feature_order: list[str]) -> np.ndarray:\n",
    "    \"\"\"Concatenate selected features (already scaled) into 1-D vector.\"\"\"\n",
    "    return row[feature_order].values.astype(np.float32)\n",
    "\n",
    "\n",
    "def save_rgb(gadf: np.ndarray, gasf: np.ndarray, save_path: Path):\n",
    "    \"\"\"\n",
    "    Stack GADF→R, GASF→G, B channel = zeros (or use another feature group).\n",
    "    Values are in [-1, 1]; scale to [0, 255] for PNG.\n",
    "    \"\"\"\n",
    "    gadf_u8 = ((gadf + 1) / 2 * 255).astype(np.uint8)\n",
    "    gasf_u8 = ((gasf + 1) / 2 * 255).astype(np.uint8)\n",
    "    b = np.zeros_like(gadf_u8, dtype=np.uint8)\n",
    "    rgb = cv2.merge([gadf_u8, gasf_u8, b])\n",
    "    cv2.imwrite(str(save_path), rgb)\n",
    "\n",
    "\n",
    "def main(args):\n",
    "    df = load_cic_csv(args.csv_dir)\n",
    "    print(f\"Loaded {len(df):,} rows.\")\n",
    "\n",
    "    # make sure chosen features exist\n",
    "    for f in args.features:\n",
    "        if f not in df.columns:\n",
    "            raise ValueError(f\"Feature '{f}' not found in CSV header.\")\n",
    "\n",
    "    # drop NaNs in chosen features\n",
    "    df = df.dropna(subset=args.features).reset_index(drop=True)\n",
    "\n",
    "    # ---- scale features to [-1, 1] (GAF requirement) ----\n",
    "    scaler = MinMaxScaler(feature_range=(-1, 1))\n",
    "    df[args.features] = scaler.fit_transform(df[args.features])\n",
    "\n",
    "    # prepare output dirs\n",
    "    out_dir = Path(args.out_dir)\n",
    "    out_dir.mkdir(parents=True, exist_ok=True)\n",
    "\n",
    "    label_map = []\n",
    "    for idx, row in tqdm(df.iterrows(), total=len(df)):\n",
    "        vec = vector_from_row(row, args.features)\n",
    "        gadf, gasf = encode_gaf_pair(vec, args.img_size)\n",
    "        img_name = f\"flow_{idx:07d}.png\"\n",
    "        save_rgb(gadf, gasf, out_dir / img_name)\n",
    "        label_map.append({\"image\": img_name, \"label\": row[\"Label\"]})\n",
    "\n",
    "    pd.DataFrame(label_map).to_csv(out_dir / \"labels.csv\", index=False)\n",
    "    print(\"Done:\", len(label_map), \"images saved to\", out_dir)\n",
    "\n",
    "\n",
    "if __name__ == \"__main__\":\n",
    "    parser = argparse.ArgumentParser()\n",
    "    parser.add_argument(\"--csv_dir\", required=True,\n",
    "                        help=\"Directory containing CIC-IDS-2017 CSV(s)\")\n",
    "    parser.add_argument(\"--out_dir\", required=True,\n",
    "                        help=\"Where to save images + labels.csv\")\n",
    "    parser.add_argument(\"--features\", nargs=\"+\", required=True,\n",
    "                        help=\"Ordered list of numeric feature columns to concatenate\")\n",
    "    parser.add_argument(\"--img_size\", type=int, default=32,\n",
    "                        help=\"Square image size (power of two works best); \"\n",
    "                             \"must divide len(features).\")\n",
    "    args = parser.parse_args()\n",
    "    main(args)\n"
   ],
   "outputs": [
    {
     "name": "stderr",
     "output_type": "stream",
     "text": [
      "usage: ipykernel_launcher.py [-h] --csv_dir CSV_DIR --out_dir OUT_DIR\n",
      "                             --features FEATURES [FEATURES ...]\n",
      "                             [--img_size IMG_SIZE]\n",
      "ipykernel_launcher.py: error: the following arguments are required: --csv_dir, --out_dir, --features\n"
     ]
    },
    {
     "ename": "SystemExit",
     "evalue": "2",
     "output_type": "error",
     "traceback": [
      "An exception has occurred, use %tb to see the full traceback.\n",
      "\u001B[0;31mSystemExit\u001B[0m\u001B[0;31m:\u001B[0m 2\n"
     ]
    },
    {
     "name": "stderr",
     "output_type": "stream",
     "text": [
      "/Users/anmol/miniconda3/lib/python3.12/site-packages/IPython/core/interactiveshell.py:3585: UserWarning: To exit: use 'exit', 'quit', or Ctrl-D.\n",
      "  warn(\"To exit: use 'exit', 'quit', or Ctrl-D.\", stacklevel=1)\n"
     ]
    }
   ],
   "execution_count": 1
  },
  {
   "metadata": {},
   "cell_type": "code",
   "outputs": [],
   "execution_count": null,
   "source": "",
   "id": "55beb8f6753d1621"
  }
 ],
 "metadata": {
  "kernelspec": {
   "display_name": "Python 3",
   "language": "python",
   "name": "python3"
  },
  "language_info": {
   "codemirror_mode": {
    "name": "ipython",
    "version": 2
   },
   "file_extension": ".py",
   "mimetype": "text/x-python",
   "name": "python",
   "nbconvert_exporter": "python",
   "pygments_lexer": "ipython2",
   "version": "2.7.6"
  }
 },
 "nbformat": 4,
 "nbformat_minor": 5
}
